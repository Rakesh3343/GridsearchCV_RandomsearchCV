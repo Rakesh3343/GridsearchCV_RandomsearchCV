{
 "cells": [
  {
   "cell_type": "code",
   "execution_count": 1,
   "id": "d1cdcf63",
   "metadata": {},
   "outputs": [],
   "source": [
    "import numpy as np\n",
    "import pandas as pd\n",
    "import seaborn as sns\n",
    "import matplotlib.pyplot as plt\n",
    "import warnings \n",
    "warnings.filterwarnings('ignore')\n",
    "from sklearn.neighbors import KNeighborsClassifier\n",
    "from sklearn.model_selection import GridSearchCV\n",
    "from sklearn.metrics import accuracy_score"
   ]
  },
  {
   "cell_type": "code",
   "execution_count": 2,
   "id": "a8512e4f",
   "metadata": {},
   "outputs": [],
   "source": [
    "df=pd.read_csv(r\"C:\\Users\\rakes\\OneDrive\\Desktop\\course stuff\\deep_learning\\IRIS.csv\")"
   ]
  },
  {
   "cell_type": "code",
   "execution_count": 3,
   "id": "0df5a625",
   "metadata": {},
   "outputs": [
    {
     "data": {
      "text/plain": [
       "array(['Iris-setosa', 'Iris-versicolor', 'Iris-virginica'], dtype=object)"
      ]
     },
     "execution_count": 3,
     "metadata": {},
     "output_type": "execute_result"
    }
   ],
   "source": [
    "df['species'].unique()"
   ]
  },
  {
   "cell_type": "code",
   "execution_count": 4,
   "id": "3c58b12e",
   "metadata": {},
   "outputs": [],
   "source": [
    "spe=[]\n",
    "for i in df['species']:\n",
    "    if i=='Iris-setosa':\n",
    "        spe.append(0)\n",
    "    elif i=='Iris-versicolor':\n",
    "        spe.append(1)\n",
    "    elif i=='Iris-virginica':\n",
    "        spe.append(2)\n",
    "df['species']=spe"
   ]
  },
  {
   "cell_type": "code",
   "execution_count": 5,
   "id": "5fb525cc",
   "metadata": {},
   "outputs": [],
   "source": [
    "X = df.iloc[:,:4]\n",
    "y = df['species']\n",
    "\n",
    "from sklearn.model_selection import train_test_split\n",
    "\n",
    "X_train, X_test, y_train, y_test = train_test_split(X, y, test_size = 0.20, \n",
    "                                                    random_state = 0)"
   ]
  },
  {
   "cell_type": "code",
   "execution_count": 6,
   "id": "2b7ce254",
   "metadata": {},
   "outputs": [],
   "source": [
    "knn=KNeighborsClassifier()"
   ]
  },
  {
   "cell_type": "code",
   "execution_count": 7,
   "id": "f4a2f688",
   "metadata": {},
   "outputs": [],
   "source": [
    "param_to_be_tuned={'n_neighbors':[i for i in range(3,29,2)]} #tuning parameters grid"
   ]
  },
  {
   "cell_type": "markdown",
   "id": "aa805138",
   "metadata": {},
   "source": [
    "### *GridSearchCV using sklearn*"
   ]
  },
  {
   "cell_type": "code",
   "execution_count": 8,
   "id": "231288e3",
   "metadata": {},
   "outputs": [],
   "source": [
    "clf = GridSearchCV(\n",
    "    estimator=KNeighborsClassifier(), \n",
    "    param_grid=param_to_be_tuned, \n",
    "    scoring='accuracy',\n",
    "    cv=3,\n",
    "    return_train_score=True,\n",
    "    verbose=1\n",
    ")"
   ]
  },
  {
   "cell_type": "code",
   "execution_count": 9,
   "id": "b682fd19",
   "metadata": {},
   "outputs": [
    {
     "name": "stdout",
     "output_type": "stream",
     "text": [
      "Fitting 3 folds for each of 13 candidates, totalling 39 fits\n"
     ]
    },
    {
     "data": {
      "text/plain": [
       "GridSearchCV(cv=3, estimator=KNeighborsClassifier(),\n",
       "             param_grid={'n_neighbors': [3, 5, 7, 9, 11, 13, 15, 17, 19, 21, 23,\n",
       "                                         25, 27]},\n",
       "             return_train_score=True, scoring='accuracy', verbose=1)"
      ]
     },
     "execution_count": 9,
     "metadata": {},
     "output_type": "execute_result"
    }
   ],
   "source": [
    "clf.fit(X_train,y_train)"
   ]
  },
  {
   "cell_type": "code",
   "execution_count": 10,
   "id": "f3127e0b",
   "metadata": {},
   "outputs": [
    {
     "name": "stdout",
     "output_type": "stream",
     "text": [
      "{'n_neighbors': 7}\n"
     ]
    }
   ],
   "source": [
    "print(clf.best_params_)"
   ]
  },
  {
   "cell_type": "code",
   "execution_count": 11,
   "id": "b2382ea0",
   "metadata": {},
   "outputs": [],
   "source": [
    "cv_results=pd.DataFrame(clf.cv_results_)"
   ]
  },
  {
   "cell_type": "code",
   "execution_count": 12,
   "id": "5767087c",
   "metadata": {},
   "outputs": [
    {
     "data": {
      "text/html": [
       "<div>\n",
       "<style scoped>\n",
       "    .dataframe tbody tr th:only-of-type {\n",
       "        vertical-align: middle;\n",
       "    }\n",
       "\n",
       "    .dataframe tbody tr th {\n",
       "        vertical-align: top;\n",
       "    }\n",
       "\n",
       "    .dataframe thead th {\n",
       "        text-align: right;\n",
       "    }\n",
       "</style>\n",
       "<table border=\"1\" class=\"dataframe\">\n",
       "  <thead>\n",
       "    <tr style=\"text-align: right;\">\n",
       "      <th></th>\n",
       "      <th>params</th>\n",
       "      <th>mean_train_score</th>\n",
       "      <th>mean_test_score</th>\n",
       "    </tr>\n",
       "  </thead>\n",
       "  <tbody>\n",
       "    <tr>\n",
       "      <th>0</th>\n",
       "      <td>{'n_neighbors': 3}</td>\n",
       "      <td>0.950000</td>\n",
       "      <td>0.941667</td>\n",
       "    </tr>\n",
       "    <tr>\n",
       "      <th>1</th>\n",
       "      <td>{'n_neighbors': 5}</td>\n",
       "      <td>0.966667</td>\n",
       "      <td>0.958333</td>\n",
       "    </tr>\n",
       "    <tr>\n",
       "      <th>2</th>\n",
       "      <td>{'n_neighbors': 7}</td>\n",
       "      <td>0.966667</td>\n",
       "      <td>0.966667</td>\n",
       "    </tr>\n",
       "    <tr>\n",
       "      <th>3</th>\n",
       "      <td>{'n_neighbors': 9}</td>\n",
       "      <td>0.966667</td>\n",
       "      <td>0.966667</td>\n",
       "    </tr>\n",
       "    <tr>\n",
       "      <th>4</th>\n",
       "      <td>{'n_neighbors': 11}</td>\n",
       "      <td>0.966667</td>\n",
       "      <td>0.958333</td>\n",
       "    </tr>\n",
       "    <tr>\n",
       "      <th>5</th>\n",
       "      <td>{'n_neighbors': 13}</td>\n",
       "      <td>0.954167</td>\n",
       "      <td>0.958333</td>\n",
       "    </tr>\n",
       "    <tr>\n",
       "      <th>6</th>\n",
       "      <td>{'n_neighbors': 15}</td>\n",
       "      <td>0.941667</td>\n",
       "      <td>0.941667</td>\n",
       "    </tr>\n",
       "    <tr>\n",
       "      <th>7</th>\n",
       "      <td>{'n_neighbors': 17}</td>\n",
       "      <td>0.937500</td>\n",
       "      <td>0.941667</td>\n",
       "    </tr>\n",
       "    <tr>\n",
       "      <th>8</th>\n",
       "      <td>{'n_neighbors': 19}</td>\n",
       "      <td>0.950000</td>\n",
       "      <td>0.933333</td>\n",
       "    </tr>\n",
       "    <tr>\n",
       "      <th>9</th>\n",
       "      <td>{'n_neighbors': 21}</td>\n",
       "      <td>0.937500</td>\n",
       "      <td>0.941667</td>\n",
       "    </tr>\n",
       "    <tr>\n",
       "      <th>10</th>\n",
       "      <td>{'n_neighbors': 23}</td>\n",
       "      <td>0.945833</td>\n",
       "      <td>0.925000</td>\n",
       "    </tr>\n",
       "    <tr>\n",
       "      <th>11</th>\n",
       "      <td>{'n_neighbors': 25}</td>\n",
       "      <td>0.945833</td>\n",
       "      <td>0.941667</td>\n",
       "    </tr>\n",
       "    <tr>\n",
       "      <th>12</th>\n",
       "      <td>{'n_neighbors': 27}</td>\n",
       "      <td>0.933333</td>\n",
       "      <td>0.933333</td>\n",
       "    </tr>\n",
       "  </tbody>\n",
       "</table>\n",
       "</div>"
      ],
      "text/plain": [
       "                 params  mean_train_score  mean_test_score\n",
       "0    {'n_neighbors': 3}          0.950000         0.941667\n",
       "1    {'n_neighbors': 5}          0.966667         0.958333\n",
       "2    {'n_neighbors': 7}          0.966667         0.966667\n",
       "3    {'n_neighbors': 9}          0.966667         0.966667\n",
       "4   {'n_neighbors': 11}          0.966667         0.958333\n",
       "5   {'n_neighbors': 13}          0.954167         0.958333\n",
       "6   {'n_neighbors': 15}          0.941667         0.941667\n",
       "7   {'n_neighbors': 17}          0.937500         0.941667\n",
       "8   {'n_neighbors': 19}          0.950000         0.933333\n",
       "9   {'n_neighbors': 21}          0.937500         0.941667\n",
       "10  {'n_neighbors': 23}          0.945833         0.925000\n",
       "11  {'n_neighbors': 25}          0.945833         0.941667\n",
       "12  {'n_neighbors': 27}          0.933333         0.933333"
      ]
     },
     "execution_count": 12,
     "metadata": {},
     "output_type": "execute_result"
    }
   ],
   "source": [
    "cv_results[['params','mean_train_score','mean_test_score']]"
   ]
  },
  {
   "cell_type": "code",
   "execution_count": 13,
   "id": "c4e150d9",
   "metadata": {},
   "outputs": [
    {
     "data": {
      "text/plain": [
       "<matplotlib.legend.Legend at 0x1ad9c116730>"
      ]
     },
     "execution_count": 13,
     "metadata": {},
     "output_type": "execute_result"
    },
    {
     "data": {
      "image/png": "[encoded data removed]",
      "text/plain": [
       "<Figure size 432x288 with 1 Axes>"
      ]
     },
     "metadata": {
      "needs_background": "light"
     },
     "output_type": "display_data"
    }
   ],
   "source": [
    "plt.plot(cv_results['param_n_neighbors'], cv_results['mean_train_score'])\n",
    "plt.plot(cv_results['param_n_neighbors'], cv_results['mean_test_score'])\n",
    "plt.xlabel('n_neighbors')\n",
    "plt.ylabel('Accuracy')\n",
    "plt.legend(['train accuracy', 'test accuracy'], loc='upper right')"
   ]
  },
  {
   "cell_type": "markdown",
   "id": "11957a95",
   "metadata": {},
   "source": [
    "### *GridsearchCV manual implementation*"
   ]
  },
  {
   "cell_type": "code",
   "execution_count": 14,
   "id": "3d3d1279",
   "metadata": {},
   "outputs": [],
   "source": [
    "param_to_be_tuned={'n_neighbors':[i for i in range(3,29,2)]} #tuning parameters grid"
   ]
  },
  {
   "cell_type": "code",
   "execution_count": 15,
   "id": "d35b9af1",
   "metadata": {},
   "outputs": [],
   "source": [
    "import random"
   ]
  },
  {
   "cell_type": "code",
   "execution_count": 16,
   "id": "26599406",
   "metadata": {},
   "outputs": [],
   "source": [
    "X = df.iloc[:,:4].values\n",
    "y = df['species'].values\n",
    "\n",
    "from sklearn.model_selection import train_test_split\n",
    "\n",
    "X_train, X_test, y_train, y_test = train_test_split(X, y, test_size = 0.20, \n",
    "                                                    random_state = 0)"
   ]
  },
  {
   "cell_type": "code",
   "execution_count": 17,
   "id": "fd5fc1e1",
   "metadata": {},
   "outputs": [],
   "source": [
    "def select_60_per_indices_randomly(x_train):\n",
    "    return random.sample([i for i in range(len(x_train))],int(0.6*(len(x_train))))"
   ]
  },
  {
   "cell_type": "code",
   "execution_count": 18,
   "id": "4b455cb7",
   "metadata": {},
   "outputs": [],
   "source": [
    "def grid_search(x_train,y_train,hyperparameter,folds,estimator):\n",
    "    train_score=[]\n",
    "    test_score=[]\n",
    "    for k in hyperparameter['n_neighbors']:\n",
    "        estimator.n_neighbors=k\n",
    "        train_acc_per_each_fold=[]\n",
    "        test_acc_per_each_fold=[]\n",
    "        for fold in range(folds):\n",
    "            train_indices=select_60_per_indices_randomly(x_train)\n",
    "            cv_indices=list(set([i for i in range(len(x_train))])-set(train_indices))\n",
    "            X_train_1=X_train[train_indices]\n",
    "            y_train_1=y_train[train_indices]\n",
    "            X_cv=X_train[cv_indices]\n",
    "            y_cv=y_train[cv_indices]\n",
    "            estimator.fit(X_train_1,y_train_1)\n",
    "            y_cv_predict=estimator.predict(X_cv)\n",
    "            y_train_pred=estimator.predict(X_train_1)\n",
    "            test_acc_per_each_fold.append(accuracy_score(y_cv_predict,y_cv))\n",
    "            train_acc_per_each_fold.append(accuracy_score(y_train_pred,y_train_1))\n",
    "        train_score.append(np.mean(np.array(train_acc_per_each_fold)))\n",
    "        test_score.append(np.mean(np.array(test_acc_per_each_fold)))\n",
    "    return train_score,test_score"
   ]
  },
  {
   "cell_type": "code",
   "execution_count": 19,
   "id": "1ffd022b",
   "metadata": {},
   "outputs": [],
   "source": [
    "mean_train_score=grid_search(X_train,y_train,param_to_be_tuned,3,KNeighborsClassifier())[0]"
   ]
  },
  {
   "cell_type": "code",
   "execution_count": 20,
   "id": "59d77914",
   "metadata": {},
   "outputs": [],
   "source": [
    "mean_test_score=grid_search(X_train,y_train,param_to_be_tuned,3,KNeighborsClassifier())[1]"
   ]
  },
  {
   "cell_type": "code",
   "execution_count": 21,
   "id": "1864962b",
   "metadata": {},
   "outputs": [],
   "source": [
    "cv_res=pd.DataFrame()"
   ]
  },
  {
   "cell_type": "code",
   "execution_count": 22,
   "id": "ff271a79",
   "metadata": {},
   "outputs": [],
   "source": [
    "cv_res['params']=param_to_be_tuned['n_neighbors']"
   ]
  },
  {
   "cell_type": "code",
   "execution_count": 23,
   "id": "94ba33f9",
   "metadata": {},
   "outputs": [],
   "source": [
    "cv_res['mean_train_score']=mean_train_score"
   ]
  },
  {
   "cell_type": "code",
   "execution_count": 24,
   "id": "d34ffa0c",
   "metadata": {},
   "outputs": [],
   "source": [
    "cv_res['mean_test_score']=mean_test_score"
   ]
  },
  {
   "cell_type": "code",
   "execution_count": 25,
   "id": "75ae3d1e",
   "metadata": {},
   "outputs": [
    {
     "data": {
      "text/html": [
       "<div>\n",
       "<style scoped>\n",
       "    .dataframe tbody tr th:only-of-type {\n",
       "        vertical-align: middle;\n",
       "    }\n",
       "\n",
       "    .dataframe tbody tr th {\n",
       "        vertical-align: top;\n",
       "    }\n",
       "\n",
       "    .dataframe thead th {\n",
       "        text-align: right;\n",
       "    }\n",
       "</style>\n",
       "<table border=\"1\" class=\"dataframe\">\n",
       "  <thead>\n",
       "    <tr style=\"text-align: right;\">\n",
       "      <th></th>\n",
       "      <th>params</th>\n",
       "      <th>mean_train_score</th>\n",
       "      <th>mean_test_score</th>\n",
       "    </tr>\n",
       "  </thead>\n",
       "  <tbody>\n",
       "    <tr>\n",
       "      <th>0</th>\n",
       "      <td>3</td>\n",
       "      <td>0.953704</td>\n",
       "      <td>0.937500</td>\n",
       "    </tr>\n",
       "    <tr>\n",
       "      <th>1</th>\n",
       "      <td>5</td>\n",
       "      <td>0.935185</td>\n",
       "      <td>0.951389</td>\n",
       "    </tr>\n",
       "    <tr>\n",
       "      <th>2</th>\n",
       "      <td>7</td>\n",
       "      <td>0.953704</td>\n",
       "      <td>0.979167</td>\n",
       "    </tr>\n",
       "    <tr>\n",
       "      <th>3</th>\n",
       "      <td>9</td>\n",
       "      <td>0.958333</td>\n",
       "      <td>0.916667</td>\n",
       "    </tr>\n",
       "    <tr>\n",
       "      <th>4</th>\n",
       "      <td>11</td>\n",
       "      <td>0.976852</td>\n",
       "      <td>0.930556</td>\n",
       "    </tr>\n",
       "    <tr>\n",
       "      <th>5</th>\n",
       "      <td>13</td>\n",
       "      <td>0.953704</td>\n",
       "      <td>0.930556</td>\n",
       "    </tr>\n",
       "    <tr>\n",
       "      <th>6</th>\n",
       "      <td>15</td>\n",
       "      <td>0.953704</td>\n",
       "      <td>0.923611</td>\n",
       "    </tr>\n",
       "    <tr>\n",
       "      <th>7</th>\n",
       "      <td>17</td>\n",
       "      <td>0.962963</td>\n",
       "      <td>0.909722</td>\n",
       "    </tr>\n",
       "    <tr>\n",
       "      <th>8</th>\n",
       "      <td>19</td>\n",
       "      <td>0.953704</td>\n",
       "      <td>0.916667</td>\n",
       "    </tr>\n",
       "    <tr>\n",
       "      <th>9</th>\n",
       "      <td>21</td>\n",
       "      <td>0.949074</td>\n",
       "      <td>0.909722</td>\n",
       "    </tr>\n",
       "    <tr>\n",
       "      <th>10</th>\n",
       "      <td>23</td>\n",
       "      <td>0.953704</td>\n",
       "      <td>0.916667</td>\n",
       "    </tr>\n",
       "    <tr>\n",
       "      <th>11</th>\n",
       "      <td>25</td>\n",
       "      <td>0.925926</td>\n",
       "      <td>0.895833</td>\n",
       "    </tr>\n",
       "    <tr>\n",
       "      <th>12</th>\n",
       "      <td>27</td>\n",
       "      <td>0.944444</td>\n",
       "      <td>0.923611</td>\n",
       "    </tr>\n",
       "  </tbody>\n",
       "</table>\n",
       "</div>"
      ],
      "text/plain": [
       "    params  mean_train_score  mean_test_score\n",
       "0        3          0.953704         0.937500\n",
       "1        5          0.935185         0.951389\n",
       "2        7          0.953704         0.979167\n",
       "3        9          0.958333         0.916667\n",
       "4       11          0.976852         0.930556\n",
       "5       13          0.953704         0.930556\n",
       "6       15          0.953704         0.923611\n",
       "7       17          0.962963         0.909722\n",
       "8       19          0.953704         0.916667\n",
       "9       21          0.949074         0.909722\n",
       "10      23          0.953704         0.916667\n",
       "11      25          0.925926         0.895833\n",
       "12      27          0.944444         0.923611"
      ]
     },
     "execution_count": 25,
     "metadata": {},
     "output_type": "execute_result"
    }
   ],
   "source": [
    "cv_res"
   ]
  },
  {
   "cell_type": "code",
   "execution_count": 26,
   "id": "9b7f4313",
   "metadata": {},
   "outputs": [
    {
     "data": {
      "text/plain": [
       "<matplotlib.legend.Legend at 0x1ad9c5ea5e0>"
      ]
     },
     "execution_count": 26,
     "metadata": {},
     "output_type": "execute_result"
    },
    {
     "data": {
      "image/png": "[encoded data removed]",
      "text/plain": [
       "<Figure size 432x288 with 1 Axes>"
      ]
     },
     "metadata": {
      "needs_background": "light"
     },
     "output_type": "display_data"
    }
   ],
   "source": [
    "plt.plot(cv_res['params'], cv_res['mean_train_score'])\n",
    "plt.plot(cv_res['params'], cv_res['mean_test_score'])\n",
    "plt.xlabel('n_neighbors')\n",
    "plt.ylabel('Accuracy')\n",
    "plt.legend(['train accuracy', 'test accuracy'], loc='upper right')"
   ]
  },
  {
   "cell_type": "markdown",
   "id": "744a68c8",
   "metadata": {},
   "source": [
    "## *So, our best hyperparameter is k=7 from both the graphs*"
   ]
  },
  {
   "cell_type": "code",
   "execution_count": 27,
   "id": "bc9afc1c",
   "metadata": {},
   "outputs": [],
   "source": [
    "knn.n_neighbors=7"
   ]
  },
  {
   "cell_type": "code",
   "execution_count": 28,
   "id": "b6b5e4a9",
   "metadata": {},
   "outputs": [
    {
     "data": {
      "text/plain": [
       "KNeighborsClassifier(n_neighbors=7)"
      ]
     },
     "execution_count": 28,
     "metadata": {},
     "output_type": "execute_result"
    }
   ],
   "source": [
    "knn.fit(X_train,y_train)"
   ]
  },
  {
   "cell_type": "code",
   "execution_count": 29,
   "id": "29e20f13",
   "metadata": {},
   "outputs": [],
   "source": [
    "y_test_predict=knn.predict(X_test)"
   ]
  },
  {
   "cell_type": "code",
   "execution_count": 30,
   "id": "ee8ec98b",
   "metadata": {},
   "outputs": [
    {
     "data": {
      "text/plain": [
       "1.0"
      ]
     },
     "execution_count": 30,
     "metadata": {},
     "output_type": "execute_result"
    }
   ],
   "source": [
    "accuracy_score(y_test_predict,y_test)"
   ]
  },
  {
   "cell_type": "markdown",
   "id": "57a80545",
   "metadata": {},
   "source": [
    "###  *as we trained, cross-validated our data and tuned the hyperparameter now we can test on test data and claim that our model is 100% accurate on future query points*"
   ]
  },
  {
   "cell_type": "code",
   "execution_count": null,
   "id": "07a3f234",
   "metadata": {},
   "outputs": [],
   "source": []
  }
 ],
 "metadata": {
  "kernelspec": {
   "display_name": "Python 3 (ipykernel)",
   "language": "python",
   "name": "python3"
  },
  "language_info": {
   "codemirror_mode": {
    "name": "ipython",
    "version": 3
   },
   "file_extension": ".py",
   "mimetype": "text/x-python",
   "name": "python",
   "nbconvert_exporter": "python",
   "pygments_lexer": "ipython3",
   "version": "3.9.12"
  }
 },
 "nbformat": 4,
 "nbformat_minor": 5
}
