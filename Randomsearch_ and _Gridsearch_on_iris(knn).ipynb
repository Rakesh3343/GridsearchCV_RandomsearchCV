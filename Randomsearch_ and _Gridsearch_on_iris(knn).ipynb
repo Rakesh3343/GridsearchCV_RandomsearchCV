{
 "cells": [
  {
   "cell_type": "code",
   "execution_count": 193,
   "id": "d1cdcf63",
   "metadata": {},
   "outputs": [],
   "source": [
    "import numpy as np\n",
    "import pandas as pd\n",
    "import seaborn as sns\n",
    "import matplotlib.pyplot as plt\n",
    "import warnings \n",
    "warnings.filterwarnings('ignore')\n",
    "from sklearn.neighbors import KNeighborsClassifier\n",
    "from sklearn.model_selection import GridSearchCV, RandomizedSearchCV\n",
    "from sklearn.metrics import accuracy_score"
   ]
  },
  {
   "cell_type": "code",
   "execution_count": 194,
   "id": "a8512e4f",
   "metadata": {},
   "outputs": [],
   "source": [
    "df=pd.read_csv(r\"C:\\Users\\rakes\\OneDrive\\Desktop\\course stuff\\deep_learning\\IRIS.csv\")"
   ]
  },
  {
   "cell_type": "code",
   "execution_count": 195,
   "id": "0df5a625",
   "metadata": {},
   "outputs": [
    {
     "data": {
      "text/plain": [
       "array(['Iris-setosa', 'Iris-versicolor', 'Iris-virginica'], dtype=object)"
      ]
     },
     "execution_count": 195,
     "metadata": {},
     "output_type": "execute_result"
    }
   ],
   "source": [
    "df['species'].unique()"
   ]
  },
  {
   "cell_type": "code",
   "execution_count": 196,
   "id": "3c58b12e",
   "metadata": {},
   "outputs": [],
   "source": [
    "spe=[]\n",
    "for i in df['species']:\n",
    "    if i=='Iris-setosa':\n",
    "        spe.append(0)\n",
    "    elif i=='Iris-versicolor':\n",
    "        spe.append(1)\n",
    "    elif i=='Iris-virginica':\n",
    "        spe.append(2)\n",
    "df['species']=spe"
   ]
  },
  {
   "cell_type": "code",
   "execution_count": 197,
   "id": "5fb525cc",
   "metadata": {},
   "outputs": [],
   "source": [
    "X = df.iloc[:,:4]\n",
    "y = df['species']\n",
    "\n",
    "from sklearn.model_selection import train_test_split\n",
    "\n",
    "X_train, X_test, y_train, y_test = train_test_split(X, y, test_size = 0.20, \n",
    "                                                    random_state = 0)"
   ]
  },
  {
   "cell_type": "code",
   "execution_count": 198,
   "id": "2b7ce254",
   "metadata": {},
   "outputs": [],
   "source": [
    "knn=KNeighborsClassifier()"
   ]
  },
  {
   "cell_type": "code",
   "execution_count": 199,
   "id": "f4a2f688",
   "metadata": {},
   "outputs": [],
   "source": [
    "param_to_be_tuned={'n_neighbors':[i for i in range(3,29,2)]} #tuning parameters grid"
   ]
  },
  {
   "cell_type": "markdown",
   "id": "aa805138",
   "metadata": {},
   "source": [
    "### *GridSearchCV using sklearn*"
   ]
  },
  {
   "cell_type": "code",
   "execution_count": 200,
   "id": "231288e3",
   "metadata": {},
   "outputs": [],
   "source": [
    "clf = GridSearchCV(\n",
    "    estimator=KNeighborsClassifier(), \n",
    "    param_grid=param_to_be_tuned, \n",
    "    scoring='accuracy',\n",
    "    cv=3,\n",
    "    return_train_score=True,\n",
    "    verbose=1\n",
    ")"
   ]
  },
  {
   "cell_type": "code",
   "execution_count": 201,
   "id": "b682fd19",
   "metadata": {},
   "outputs": [
    {
     "name": "stdout",
     "output_type": "stream",
     "text": [
      "Fitting 3 folds for each of 13 candidates, totalling 39 fits\n"
     ]
    },
    {
     "data": {
      "text/plain": [
       "GridSearchCV(cv=3, estimator=KNeighborsClassifier(),\n",
       "             param_grid={'n_neighbors': [3, 5, 7, 9, 11, 13, 15, 17, 19, 21, 23,\n",
       "                                         25, 27]},\n",
       "             return_train_score=True, scoring='accuracy', verbose=1)"
      ]
     },
     "execution_count": 201,
     "metadata": {},
     "output_type": "execute_result"
    }
   ],
   "source": [
    "clf.fit(X_train,y_train)"
   ]
  },
  {
   "cell_type": "code",
   "execution_count": 202,
   "id": "f3127e0b",
   "metadata": {},
   "outputs": [
    {
     "name": "stdout",
     "output_type": "stream",
     "text": [
      "{'n_neighbors': 7}\n"
     ]
    }
   ],
   "source": [
    "print(clf.best_params_)"
   ]
  },
  {
   "cell_type": "code",
   "execution_count": 203,
   "id": "b2382ea0",
   "metadata": {},
   "outputs": [],
   "source": [
    "cv_results=pd.DataFrame(clf.cv_results_)"
   ]
  },
  {
   "cell_type": "code",
   "execution_count": 204,
   "id": "5767087c",
   "metadata": {},
   "outputs": [
    {
     "data": {
      "text/html": [
       "<div>\n",
       "<style scoped>\n",
       "    .dataframe tbody tr th:only-of-type {\n",
       "        vertical-align: middle;\n",
       "    }\n",
       "\n",
       "    .dataframe tbody tr th {\n",
       "        vertical-align: top;\n",
       "    }\n",
       "\n",
       "    .dataframe thead th {\n",
       "        text-align: right;\n",
       "    }\n",
       "</style>\n",
       "<table border=\"1\" class=\"dataframe\">\n",
       "  <thead>\n",
       "    <tr style=\"text-align: right;\">\n",
       "      <th></th>\n",
       "      <th>params</th>\n",
       "      <th>mean_train_score</th>\n",
       "      <th>mean_test_score</th>\n",
       "    </tr>\n",
       "  </thead>\n",
       "  <tbody>\n",
       "    <tr>\n",
       "      <th>0</th>\n",
       "      <td>{'n_neighbors': 3}</td>\n",
       "      <td>0.950000</td>\n",
       "      <td>0.941667</td>\n",
       "    </tr>\n",
       "    <tr>\n",
       "      <th>1</th>\n",
       "      <td>{'n_neighbors': 5}</td>\n",
       "      <td>0.966667</td>\n",
       "      <td>0.958333</td>\n",
       "    </tr>\n",
       "    <tr>\n",
       "      <th>2</th>\n",
       "      <td>{'n_neighbors': 7}</td>\n",
       "      <td>0.966667</td>\n",
       "      <td>0.966667</td>\n",
       "    </tr>\n",
       "    <tr>\n",
       "      <th>3</th>\n",
       "      <td>{'n_neighbors': 9}</td>\n",
       "      <td>0.966667</td>\n",
       "      <td>0.966667</td>\n",
       "    </tr>\n",
       "    <tr>\n",
       "      <th>4</th>\n",
       "      <td>{'n_neighbors': 11}</td>\n",
       "      <td>0.966667</td>\n",
       "      <td>0.958333</td>\n",
       "    </tr>\n",
       "    <tr>\n",
       "      <th>5</th>\n",
       "      <td>{'n_neighbors': 13}</td>\n",
       "      <td>0.954167</td>\n",
       "      <td>0.958333</td>\n",
       "    </tr>\n",
       "    <tr>\n",
       "      <th>6</th>\n",
       "      <td>{'n_neighbors': 15}</td>\n",
       "      <td>0.941667</td>\n",
       "      <td>0.941667</td>\n",
       "    </tr>\n",
       "    <tr>\n",
       "      <th>7</th>\n",
       "      <td>{'n_neighbors': 17}</td>\n",
       "      <td>0.937500</td>\n",
       "      <td>0.941667</td>\n",
       "    </tr>\n",
       "    <tr>\n",
       "      <th>8</th>\n",
       "      <td>{'n_neighbors': 19}</td>\n",
       "      <td>0.950000</td>\n",
       "      <td>0.933333</td>\n",
       "    </tr>\n",
       "    <tr>\n",
       "      <th>9</th>\n",
       "      <td>{'n_neighbors': 21}</td>\n",
       "      <td>0.937500</td>\n",
       "      <td>0.941667</td>\n",
       "    </tr>\n",
       "    <tr>\n",
       "      <th>10</th>\n",
       "      <td>{'n_neighbors': 23}</td>\n",
       "      <td>0.945833</td>\n",
       "      <td>0.925000</td>\n",
       "    </tr>\n",
       "    <tr>\n",
       "      <th>11</th>\n",
       "      <td>{'n_neighbors': 25}</td>\n",
       "      <td>0.945833</td>\n",
       "      <td>0.941667</td>\n",
       "    </tr>\n",
       "    <tr>\n",
       "      <th>12</th>\n",
       "      <td>{'n_neighbors': 27}</td>\n",
       "      <td>0.933333</td>\n",
       "      <td>0.933333</td>\n",
       "    </tr>\n",
       "  </tbody>\n",
       "</table>\n",
       "</div>"
      ],
      "text/plain": [
       "                 params  mean_train_score  mean_test_score\n",
       "0    {'n_neighbors': 3}          0.950000         0.941667\n",
       "1    {'n_neighbors': 5}          0.966667         0.958333\n",
       "2    {'n_neighbors': 7}          0.966667         0.966667\n",
       "3    {'n_neighbors': 9}          0.966667         0.966667\n",
       "4   {'n_neighbors': 11}          0.966667         0.958333\n",
       "5   {'n_neighbors': 13}          0.954167         0.958333\n",
       "6   {'n_neighbors': 15}          0.941667         0.941667\n",
       "7   {'n_neighbors': 17}          0.937500         0.941667\n",
       "8   {'n_neighbors': 19}          0.950000         0.933333\n",
       "9   {'n_neighbors': 21}          0.937500         0.941667\n",
       "10  {'n_neighbors': 23}          0.945833         0.925000\n",
       "11  {'n_neighbors': 25}          0.945833         0.941667\n",
       "12  {'n_neighbors': 27}          0.933333         0.933333"
      ]
     },
     "execution_count": 204,
     "metadata": {},
     "output_type": "execute_result"
    }
   ],
   "source": [
    "cv_results[['params','mean_train_score','mean_test_score']]"
   ]
  },
  {
   "cell_type": "code",
   "execution_count": 205,
   "id": "c4e150d9",
   "metadata": {},
   "outputs": [
    {
     "data": {
      "text/plain": [
       "<matplotlib.legend.Legend at 0x22342737580>"
      ]
     },
     "execution_count": 205,
     "metadata": {},
     "output_type": "execute_result"
    },
    {
     "data": {
      "image/png": "[encoded data removed]",
      "text/plain": [
       "<Figure size 432x288 with 1 Axes>"
      ]
     },
     "metadata": {
      "needs_background": "light"
     },
     "output_type": "display_data"
    }
   ],
   "source": [
    "plt.plot(cv_results['param_n_neighbors'], cv_results['mean_train_score'])\n",
    "plt.plot(cv_results['param_n_neighbors'], cv_results['mean_test_score'])\n",
    "plt.xlabel('n_neighbors')\n",
    "plt.ylabel('Accuracy')\n",
    "plt.legend(['train accuracy', 'test accuracy'], loc='upper right')"
   ]
  },
  {
   "cell_type": "markdown",
   "id": "11957a95",
   "metadata": {},
   "source": [
    "### *GridsearchCV manual implementation*"
   ]
  },
  {
   "cell_type": "code",
   "execution_count": 206,
   "id": "3d3d1279",
   "metadata": {},
   "outputs": [],
   "source": [
    "param_to_be_tuned={'n_neighbors':[i for i in range(3,29,2)]} #tuning parameters grid"
   ]
  },
  {
   "cell_type": "code",
   "execution_count": 207,
   "id": "d35b9af1",
   "metadata": {},
   "outputs": [],
   "source": [
    "import random"
   ]
  },
  {
   "cell_type": "code",
   "execution_count": 208,
   "id": "26599406",
   "metadata": {},
   "outputs": [],
   "source": [
    "X = df.iloc[:,:4].values\n",
    "y = df['species'].values\n",
    "\n",
    "from sklearn.model_selection import train_test_split\n",
    "\n",
    "X_train, X_test, y_train, y_test = train_test_split(X, y, test_size = 0.20, \n",
    "                                                    random_state = 0)"
   ]
  },
  {
   "cell_type": "code",
   "execution_count": 209,
   "id": "fd5fc1e1",
   "metadata": {},
   "outputs": [],
   "source": [
    "def select_60_per_indices_randomly(x_train):\n",
    "    return random.sample([i for i in range(len(x_train))],int(0.6*(len(x_train)))) #sampling 60% data"
   ]
  },
  {
   "cell_type": "code",
   "execution_count": 210,
   "id": "4b455cb7",
   "metadata": {},
   "outputs": [],
   "source": [
    "def grid_search(x_train,y_train,hyperparameter,folds,estimator):\n",
    "    train_score=[]\n",
    "    test_score=[]\n",
    "    for k in hyperparameter['n_neighbors']:\n",
    "        estimator.n_neighbors=k\n",
    "        train_acc_per_each_fold=[]\n",
    "        test_acc_per_each_fold=[]\n",
    "        for fold in range(folds):\n",
    "            train_indices=select_60_per_indices_randomly(x_train) #randomly selecting 60% indices\n",
    "            cv_indices=list(set([i for i in range(len(x_train))])-set(train_indices)) #storing the rest indices in cv set\n",
    "            X_train_1=X_train[train_indices] #restoring the X_train values for cross_validation from the indices we already obtained.\n",
    "            y_train_1=y_train[train_indices] #restoring the y_train values for cross_validation from the indices we already obtained.\n",
    "            X_cv=X_train[cv_indices] #restoring X_cv values from the indices we had\n",
    "            y_cv=y_train[cv_indices] #restoring the y_cv values from the indices we had\n",
    "            estimator.fit(X_train_1,y_train_1)\n",
    "            y_cv_predict=estimator.predict(X_cv)\n",
    "            y_train_pred=estimator.predict(X_train_1)\n",
    "            # after prediction of both CV and train storing both the accuracies for every fold.\n",
    "            test_acc_per_each_fold.append(accuracy_score(y_cv_predict,y_cv))\n",
    "            train_acc_per_each_fold.append(accuracy_score(y_train_pred,y_train_1))\n",
    "        # storing the mean accuracies of each fold.\n",
    "        train_score.append(np.mean(np.array(train_acc_per_each_fold)))\n",
    "        test_score.append(np.mean(np.array(test_acc_per_each_fold)))\n",
    "    return train_score,test_score"
   ]
  },
  {
   "cell_type": "code",
   "execution_count": 211,
   "id": "1ffd022b",
   "metadata": {},
   "outputs": [],
   "source": [
    "mean_train_score=grid_search(X_train,y_train,param_to_be_tuned,3,KNeighborsClassifier())[0]"
   ]
  },
  {
   "cell_type": "code",
   "execution_count": 212,
   "id": "59d77914",
   "metadata": {},
   "outputs": [],
   "source": [
    "mean_test_score=grid_search(X_train,y_train,param_to_be_tuned,3,KNeighborsClassifier())[1]"
   ]
  },
  {
   "cell_type": "code",
   "execution_count": 213,
   "id": "1864962b",
   "metadata": {},
   "outputs": [],
   "source": [
    "cv_res=pd.DataFrame()"
   ]
  },
  {
   "cell_type": "code",
   "execution_count": 214,
   "id": "ff271a79",
   "metadata": {},
   "outputs": [],
   "source": [
    "cv_res['params']=param_to_be_tuned['n_neighbors']"
   ]
  },
  {
   "cell_type": "code",
   "execution_count": 215,
   "id": "94ba33f9",
   "metadata": {},
   "outputs": [],
   "source": [
    "cv_res['mean_train_score']=mean_train_score"
   ]
  },
  {
   "cell_type": "code",
   "execution_count": 216,
   "id": "d34ffa0c",
   "metadata": {},
   "outputs": [],
   "source": [
    "cv_res['mean_test_score']=mean_test_score"
   ]
  },
  {
   "cell_type": "code",
   "execution_count": 217,
   "id": "75ae3d1e",
   "metadata": {},
   "outputs": [
    {
     "data": {
      "text/html": [
       "<div>\n",
       "<style scoped>\n",
       "    .dataframe tbody tr th:only-of-type {\n",
       "        vertical-align: middle;\n",
       "    }\n",
       "\n",
       "    .dataframe tbody tr th {\n",
       "        vertical-align: top;\n",
       "    }\n",
       "\n",
       "    .dataframe thead th {\n",
       "        text-align: right;\n",
       "    }\n",
       "</style>\n",
       "<table border=\"1\" class=\"dataframe\">\n",
       "  <thead>\n",
       "    <tr style=\"text-align: right;\">\n",
       "      <th></th>\n",
       "      <th>params</th>\n",
       "      <th>mean_train_score</th>\n",
       "      <th>mean_test_score</th>\n",
       "    </tr>\n",
       "  </thead>\n",
       "  <tbody>\n",
       "    <tr>\n",
       "      <th>0</th>\n",
       "      <td>3</td>\n",
       "      <td>0.944444</td>\n",
       "      <td>0.930556</td>\n",
       "    </tr>\n",
       "    <tr>\n",
       "      <th>1</th>\n",
       "      <td>5</td>\n",
       "      <td>0.967593</td>\n",
       "      <td>0.965278</td>\n",
       "    </tr>\n",
       "    <tr>\n",
       "      <th>2</th>\n",
       "      <td>7</td>\n",
       "      <td>0.972222</td>\n",
       "      <td>0.986111</td>\n",
       "    </tr>\n",
       "    <tr>\n",
       "      <th>3</th>\n",
       "      <td>9</td>\n",
       "      <td>0.967593</td>\n",
       "      <td>0.958333</td>\n",
       "    </tr>\n",
       "    <tr>\n",
       "      <th>4</th>\n",
       "      <td>11</td>\n",
       "      <td>0.958333</td>\n",
       "      <td>0.930556</td>\n",
       "    </tr>\n",
       "    <tr>\n",
       "      <th>5</th>\n",
       "      <td>13</td>\n",
       "      <td>0.949074</td>\n",
       "      <td>0.923611</td>\n",
       "    </tr>\n",
       "    <tr>\n",
       "      <th>6</th>\n",
       "      <td>15</td>\n",
       "      <td>0.944444</td>\n",
       "      <td>0.958333</td>\n",
       "    </tr>\n",
       "    <tr>\n",
       "      <th>7</th>\n",
       "      <td>17</td>\n",
       "      <td>0.921296</td>\n",
       "      <td>0.937500</td>\n",
       "    </tr>\n",
       "    <tr>\n",
       "      <th>8</th>\n",
       "      <td>19</td>\n",
       "      <td>0.935185</td>\n",
       "      <td>0.923611</td>\n",
       "    </tr>\n",
       "    <tr>\n",
       "      <th>9</th>\n",
       "      <td>21</td>\n",
       "      <td>0.939815</td>\n",
       "      <td>0.937500</td>\n",
       "    </tr>\n",
       "    <tr>\n",
       "      <th>10</th>\n",
       "      <td>23</td>\n",
       "      <td>0.962963</td>\n",
       "      <td>0.951389</td>\n",
       "    </tr>\n",
       "    <tr>\n",
       "      <th>11</th>\n",
       "      <td>25</td>\n",
       "      <td>0.949074</td>\n",
       "      <td>0.951389</td>\n",
       "    </tr>\n",
       "    <tr>\n",
       "      <th>12</th>\n",
       "      <td>27</td>\n",
       "      <td>0.925926</td>\n",
       "      <td>0.909722</td>\n",
       "    </tr>\n",
       "  </tbody>\n",
       "</table>\n",
       "</div>"
      ],
      "text/plain": [
       "    params  mean_train_score  mean_test_score\n",
       "0        3          0.944444         0.930556\n",
       "1        5          0.967593         0.965278\n",
       "2        7          0.972222         0.986111\n",
       "3        9          0.967593         0.958333\n",
       "4       11          0.958333         0.930556\n",
       "5       13          0.949074         0.923611\n",
       "6       15          0.944444         0.958333\n",
       "7       17          0.921296         0.937500\n",
       "8       19          0.935185         0.923611\n",
       "9       21          0.939815         0.937500\n",
       "10      23          0.962963         0.951389\n",
       "11      25          0.949074         0.951389\n",
       "12      27          0.925926         0.909722"
      ]
     },
     "execution_count": 217,
     "metadata": {},
     "output_type": "execute_result"
    }
   ],
   "source": [
    "cv_res"
   ]
  },
  {
   "cell_type": "code",
   "execution_count": 218,
   "id": "9b7f4313",
   "metadata": {},
   "outputs": [
    {
     "data": {
      "text/plain": [
       "<matplotlib.legend.Legend at 0x223426f1ca0>"
      ]
     },
     "execution_count": 218,
     "metadata": {},
     "output_type": "execute_result"
    },
    {
     "data": {
      "image/png": "[encoded data removed]",
      "text/plain": [
       "<Figure size 432x288 with 1 Axes>"
      ]
     },
     "metadata": {
      "needs_background": "light"
     },
     "output_type": "display_data"
    }
   ],
   "source": [
    "plt.plot(cv_res['params'], cv_res['mean_train_score'])\n",
    "plt.plot(cv_res['params'], cv_res['mean_test_score'])\n",
    "plt.xlabel('n_neighbors')\n",
    "plt.ylabel('Accuracy')\n",
    "plt.legend(['train accuracy', 'test accuracy'], loc='upper right')"
   ]
  },
  {
   "cell_type": "markdown",
   "id": "744a68c8",
   "metadata": {},
   "source": [
    "## *So, our best hyperparameter is k=7 from both the graphs*"
   ]
  },
  {
   "cell_type": "code",
   "execution_count": 27,
   "id": "bc9afc1c",
   "metadata": {},
   "outputs": [],
   "source": [
    "knn.n_neighbors=7"
   ]
  },
  {
   "cell_type": "code",
   "execution_count": 28,
   "id": "b6b5e4a9",
   "metadata": {},
   "outputs": [
    {
     "data": {
      "text/plain": [
       "KNeighborsClassifier(n_neighbors=7)"
      ]
     },
     "execution_count": 28,
     "metadata": {},
     "output_type": "execute_result"
    }
   ],
   "source": [
    "knn.fit(X_train,y_train)"
   ]
  },
  {
   "cell_type": "code",
   "execution_count": 29,
   "id": "29e20f13",
   "metadata": {},
   "outputs": [],
   "source": [
    "y_test_predict=knn.predict(X_test)"
   ]
  },
  {
   "cell_type": "code",
   "execution_count": 30,
   "id": "ee8ec98b",
   "metadata": {},
   "outputs": [
    {
     "data": {
      "text/plain": [
       "1.0"
      ]
     },
     "execution_count": 30,
     "metadata": {},
     "output_type": "execute_result"
    }
   ],
   "source": [
    "accuracy_score(y_test_predict,y_test)"
   ]
  },
  {
   "cell_type": "markdown",
   "id": "57a80545",
   "metadata": {},
   "source": [
    "###  *as we trained, cross-validated our data and tuned the hyperparameter now we can test on test data and claim that our model is 100% accurate on future query points*"
   ]
  },
  {
   "cell_type": "markdown",
   "id": "3c89e1a6",
   "metadata": {},
   "source": [
    "$$$____________________________________________$$$____________________________________$$$"
   ]
  },
  {
   "cell_type": "markdown",
   "id": "5b831534",
   "metadata": {},
   "source": [
    "## *RandomsearchCV using sklearn*"
   ]
  },
  {
   "cell_type": "code",
   "execution_count": 32,
   "id": "9626a49a",
   "metadata": {},
   "outputs": [],
   "source": [
    "param_to_be_tuned={'n_neighbors':[i for i in range(3,29,2)]}"
   ]
  },
  {
   "cell_type": "code",
   "execution_count": 33,
   "id": "707de391",
   "metadata": {},
   "outputs": [],
   "source": [
    "knn=KNeighborsClassifier()"
   ]
  },
  {
   "cell_type": "code",
   "execution_count": 42,
   "id": "8c4579de",
   "metadata": {},
   "outputs": [],
   "source": [
    "rcv=RandomizedSearchCV(estimator=knn,param_distributions=param_to_be_tuned,return_train_score=True)"
   ]
  },
  {
   "cell_type": "code",
   "execution_count": 43,
   "id": "96d394c4",
   "metadata": {},
   "outputs": [
    {
     "data": {
      "text/plain": [
       "RandomizedSearchCV(estimator=KNeighborsClassifier(),\n",
       "                   param_distributions={'n_neighbors': [3, 5, 7, 9, 11, 13, 15,\n",
       "                                                        17, 19, 21, 23, 25,\n",
       "                                                        27]},\n",
       "                   return_train_score=True)"
      ]
     },
     "execution_count": 43,
     "metadata": {},
     "output_type": "execute_result"
    }
   ],
   "source": [
    "rcv.fit(X_train,y_train)"
   ]
  },
  {
   "cell_type": "code",
   "execution_count": 44,
   "id": "79cb56ca",
   "metadata": {},
   "outputs": [
    {
     "name": "stdout",
     "output_type": "stream",
     "text": [
      "{'n_neighbors': 13}\n"
     ]
    }
   ],
   "source": [
    "print(rcv.best_params_)"
   ]
  },
  {
   "cell_type": "code",
   "execution_count": 45,
   "id": "ae73ea85",
   "metadata": {},
   "outputs": [],
   "source": [
    "rcv_df=pd.DataFrame(rcv.cv_results_)"
   ]
  },
  {
   "cell_type": "code",
   "execution_count": 49,
   "id": "0bc5ae85",
   "metadata": {},
   "outputs": [
    {
     "data": {
      "text/html": [
       "<div>\n",
       "<style scoped>\n",
       "    .dataframe tbody tr th:only-of-type {\n",
       "        vertical-align: middle;\n",
       "    }\n",
       "\n",
       "    .dataframe tbody tr th {\n",
       "        vertical-align: top;\n",
       "    }\n",
       "\n",
       "    .dataframe thead th {\n",
       "        text-align: right;\n",
       "    }\n",
       "</style>\n",
       "<table border=\"1\" class=\"dataframe\">\n",
       "  <thead>\n",
       "    <tr style=\"text-align: right;\">\n",
       "      <th></th>\n",
       "      <th>params</th>\n",
       "      <th>mean_train_score</th>\n",
       "      <th>mean_test_score</th>\n",
       "    </tr>\n",
       "  </thead>\n",
       "  <tbody>\n",
       "    <tr>\n",
       "      <th>0</th>\n",
       "      <td>{'n_neighbors': 23}</td>\n",
       "      <td>0.941667</td>\n",
       "      <td>0.950000</td>\n",
       "    </tr>\n",
       "    <tr>\n",
       "      <th>1</th>\n",
       "      <td>{'n_neighbors': 27}</td>\n",
       "      <td>0.943750</td>\n",
       "      <td>0.933333</td>\n",
       "    </tr>\n",
       "    <tr>\n",
       "      <th>2</th>\n",
       "      <td>{'n_neighbors': 19}</td>\n",
       "      <td>0.947917</td>\n",
       "      <td>0.941667</td>\n",
       "    </tr>\n",
       "    <tr>\n",
       "      <th>3</th>\n",
       "      <td>{'n_neighbors': 21}</td>\n",
       "      <td>0.943750</td>\n",
       "      <td>0.941667</td>\n",
       "    </tr>\n",
       "    <tr>\n",
       "      <th>4</th>\n",
       "      <td>{'n_neighbors': 5}</td>\n",
       "      <td>0.962500</td>\n",
       "      <td>0.933333</td>\n",
       "    </tr>\n",
       "    <tr>\n",
       "      <th>5</th>\n",
       "      <td>{'n_neighbors': 3}</td>\n",
       "      <td>0.952083</td>\n",
       "      <td>0.925000</td>\n",
       "    </tr>\n",
       "    <tr>\n",
       "      <th>6</th>\n",
       "      <td>{'n_neighbors': 7}</td>\n",
       "      <td>0.962500</td>\n",
       "      <td>0.950000</td>\n",
       "    </tr>\n",
       "    <tr>\n",
       "      <th>7</th>\n",
       "      <td>{'n_neighbors': 17}</td>\n",
       "      <td>0.947917</td>\n",
       "      <td>0.941667</td>\n",
       "    </tr>\n",
       "    <tr>\n",
       "      <th>8</th>\n",
       "      <td>{'n_neighbors': 13}</td>\n",
       "      <td>0.962500</td>\n",
       "      <td>0.958333</td>\n",
       "    </tr>\n",
       "    <tr>\n",
       "      <th>9</th>\n",
       "      <td>{'n_neighbors': 15}</td>\n",
       "      <td>0.954167</td>\n",
       "      <td>0.958333</td>\n",
       "    </tr>\n",
       "  </tbody>\n",
       "</table>\n",
       "</div>"
      ],
      "text/plain": [
       "                params  mean_train_score  mean_test_score\n",
       "0  {'n_neighbors': 23}          0.941667         0.950000\n",
       "1  {'n_neighbors': 27}          0.943750         0.933333\n",
       "2  {'n_neighbors': 19}          0.947917         0.941667\n",
       "3  {'n_neighbors': 21}          0.943750         0.941667\n",
       "4   {'n_neighbors': 5}          0.962500         0.933333\n",
       "5   {'n_neighbors': 3}          0.952083         0.925000\n",
       "6   {'n_neighbors': 7}          0.962500         0.950000\n",
       "7  {'n_neighbors': 17}          0.947917         0.941667\n",
       "8  {'n_neighbors': 13}          0.962500         0.958333\n",
       "9  {'n_neighbors': 15}          0.954167         0.958333"
      ]
     },
     "execution_count": 49,
     "metadata": {},
     "output_type": "execute_result"
    }
   ],
   "source": [
    "rcv_df[['params','mean_train_score','mean_test_score']]"
   ]
  },
  {
   "cell_type": "code",
   "execution_count": 51,
   "id": "19b1ad6b",
   "metadata": {},
   "outputs": [],
   "source": [
    "knn.n_neighbors=13"
   ]
  },
  {
   "cell_type": "code",
   "execution_count": 52,
   "id": "de3ceee7",
   "metadata": {},
   "outputs": [
    {
     "data": {
      "text/plain": [
       "KNeighborsClassifier(n_neighbors=13)"
      ]
     },
     "execution_count": 52,
     "metadata": {},
     "output_type": "execute_result"
    }
   ],
   "source": [
    "knn.fit(X_train,y_train)"
   ]
  },
  {
   "cell_type": "code",
   "execution_count": 54,
   "id": "8d0b84bb",
   "metadata": {},
   "outputs": [],
   "source": [
    "y_pred_rcv=knn.predict(X_test)"
   ]
  },
  {
   "cell_type": "code",
   "execution_count": 55,
   "id": "ae70549f",
   "metadata": {},
   "outputs": [
    {
     "data": {
      "text/plain": [
       "1.0"
      ]
     },
     "execution_count": 55,
     "metadata": {},
     "output_type": "execute_result"
    }
   ],
   "source": [
    "accuracy_score(y_pred_rcv,y_test)"
   ]
  },
  {
   "cell_type": "markdown",
   "id": "2e4c0707",
   "metadata": {},
   "source": [
    "## *RandomsearchCV manual implementation*"
   ]
  },
  {
   "cell_type": "code",
   "execution_count": 182,
   "id": "6f016f81",
   "metadata": {},
   "outputs": [],
   "source": [
    "param_to_be_tuned={'n_neighbors':[i for i in range(3,29,2)]}"
   ]
  },
  {
   "cell_type": "code",
   "execution_count": 183,
   "id": "d3aa397a",
   "metadata": {},
   "outputs": [
    {
     "data": {
      "text/plain": [
       "[3, 5, 7, 9, 11, 13, 15, 17, 19, 21, 23, 25, 27]"
      ]
     },
     "execution_count": 183,
     "metadata": {},
     "output_type": "execute_result"
    }
   ],
   "source": [
    "param_to_be_tuned['n_neighbors']"
   ]
  },
  {
   "cell_type": "code",
   "execution_count": 184,
   "id": "6a9548aa",
   "metadata": {},
   "outputs": [],
   "source": [
    "def RandomSearchCV(x_train,y_train,classifier, param_range, folds):\n",
    "    params=random.sample(param_range['n_neighbors'],10)\n",
    "    params.sort()\n",
    "    \n",
    "    fold_indices=[]\n",
    "    for i in range(0,len(X_train),int(len(X_train)/folds)):\n",
    "        j=i+int(len(X_train)/folds)                           # in this code block divided the train set indices into folds\n",
    "        fold_indices.append([k for k in range(i,j)])\n",
    "        \n",
    "    total_indices=[index for index in range(len(X_train))]  # created a list of all the indices\n",
    "    train_acc=[]\n",
    "    test_acc=[]\n",
    "    for neigh in params:    \n",
    "        classifier.n_neighbors=neigh\n",
    "        train_acc_per_fold=[]\n",
    "        test_acc_per_fold=[]\n",
    "        for fold in fold_indices:\n",
    "            X_train_1=x_train[list(set(total_indices)-set(fold))]  # except for the fold all are stored in X_train\n",
    "            y_train_1=y_train[list(set(total_indices)-set(fold))]\n",
    "            X_cv=x_train[list(set(fold))] # fold is our X_cv\n",
    "            y_cv=y_train[list(set(fold))]\n",
    "            classifier.fit(X_train_1,y_train_1)\n",
    "            y_test_pred=classifier.predict(X_cv)\n",
    "            y_train_pred=classifier.predict(X_train_1)\n",
    "            test_acc_per_fold.append(accuracy_score(y_test_pred,y_cv)) # appending all the test accuracies into a list\n",
    "            train_acc_per_fold.append(accuracy_score(y_train_pred,y_train_1)) # ||ly for train accuracies\n",
    "        train_acc.append(np.mean(np.array(train_acc_per_fold)))\n",
    "        test_acc.append(np.mean(np.array(test_acc_per_fold)))\n",
    "    return(train_acc,test_acc,params)\n",
    "        \n",
    "    "
   ]
  },
  {
   "cell_type": "code",
   "execution_count": 185,
   "id": "345309dd",
   "metadata": {},
   "outputs": [],
   "source": [
    "rcv=pd.DataFrame()"
   ]
  },
  {
   "cell_type": "code",
   "execution_count": 186,
   "id": "347916b4",
   "metadata": {},
   "outputs": [],
   "source": [
    "rcv['train_acc']=RandomSearchCV(X_train,y_train,knn,param_to_be_tuned,3)[0]"
   ]
  },
  {
   "cell_type": "code",
   "execution_count": 187,
   "id": "e1667e8b",
   "metadata": {},
   "outputs": [],
   "source": [
    "rcv['test_acc']=RandomSearchCV(X_train,y_train,knn,param_to_be_tuned,3)[1]"
   ]
  },
  {
   "cell_type": "code",
   "execution_count": 188,
   "id": "49c42ed8",
   "metadata": {},
   "outputs": [],
   "source": [
    "rcv['params']=RandomSearchCV(X_train,y_train,knn,param_to_be_tuned,3)[2]"
   ]
  },
  {
   "cell_type": "code",
   "execution_count": 189,
   "id": "62996379",
   "metadata": {},
   "outputs": [],
   "source": [
    "rcv['diff']=rcv['train_acc']-rcv['test_acc']"
   ]
  },
  {
   "cell_type": "code",
   "execution_count": 190,
   "id": "1ba607f8",
   "metadata": {},
   "outputs": [
    {
     "data": {
      "text/html": [
       "<div>\n",
       "<style scoped>\n",
       "    .dataframe tbody tr th:only-of-type {\n",
       "        vertical-align: middle;\n",
       "    }\n",
       "\n",
       "    .dataframe tbody tr th {\n",
       "        vertical-align: top;\n",
       "    }\n",
       "\n",
       "    .dataframe thead th {\n",
       "        text-align: right;\n",
       "    }\n",
       "</style>\n",
       "<table border=\"1\" class=\"dataframe\">\n",
       "  <thead>\n",
       "    <tr style=\"text-align: right;\">\n",
       "      <th></th>\n",
       "      <th>train_acc</th>\n",
       "      <th>test_acc</th>\n",
       "      <th>params</th>\n",
       "      <th>diff</th>\n",
       "    </tr>\n",
       "  </thead>\n",
       "  <tbody>\n",
       "    <tr>\n",
       "      <th>0</th>\n",
       "      <td>0.950000</td>\n",
       "      <td>0.941667</td>\n",
       "      <td>3</td>\n",
       "      <td>0.008333</td>\n",
       "    </tr>\n",
       "    <tr>\n",
       "      <th>1</th>\n",
       "      <td>0.966667</td>\n",
       "      <td>0.950000</td>\n",
       "      <td>5</td>\n",
       "      <td>0.016667</td>\n",
       "    </tr>\n",
       "    <tr>\n",
       "      <th>2</th>\n",
       "      <td>0.962500</td>\n",
       "      <td>0.958333</td>\n",
       "      <td>7</td>\n",
       "      <td>0.004167</td>\n",
       "    </tr>\n",
       "    <tr>\n",
       "      <th>3</th>\n",
       "      <td>0.962500</td>\n",
       "      <td>0.966667</td>\n",
       "      <td>9</td>\n",
       "      <td>-0.004167</td>\n",
       "    </tr>\n",
       "    <tr>\n",
       "      <th>4</th>\n",
       "      <td>0.954167</td>\n",
       "      <td>0.966667</td>\n",
       "      <td>11</td>\n",
       "      <td>-0.012500</td>\n",
       "    </tr>\n",
       "    <tr>\n",
       "      <th>5</th>\n",
       "      <td>0.945833</td>\n",
       "      <td>0.941667</td>\n",
       "      <td>15</td>\n",
       "      <td>0.004167</td>\n",
       "    </tr>\n",
       "    <tr>\n",
       "      <th>6</th>\n",
       "      <td>0.937500</td>\n",
       "      <td>0.925000</td>\n",
       "      <td>19</td>\n",
       "      <td>0.012500</td>\n",
       "    </tr>\n",
       "    <tr>\n",
       "      <th>7</th>\n",
       "      <td>0.941667</td>\n",
       "      <td>0.941667</td>\n",
       "      <td>23</td>\n",
       "      <td>0.000000</td>\n",
       "    </tr>\n",
       "    <tr>\n",
       "      <th>8</th>\n",
       "      <td>0.950000</td>\n",
       "      <td>0.933333</td>\n",
       "      <td>25</td>\n",
       "      <td>0.016667</td>\n",
       "    </tr>\n",
       "    <tr>\n",
       "      <th>9</th>\n",
       "      <td>0.941667</td>\n",
       "      <td>0.933333</td>\n",
       "      <td>27</td>\n",
       "      <td>0.008333</td>\n",
       "    </tr>\n",
       "  </tbody>\n",
       "</table>\n",
       "</div>"
      ],
      "text/plain": [
       "   train_acc  test_acc  params      diff\n",
       "0   0.950000  0.941667       3  0.008333\n",
       "1   0.966667  0.950000       5  0.016667\n",
       "2   0.962500  0.958333       7  0.004167\n",
       "3   0.962500  0.966667       9 -0.004167\n",
       "4   0.954167  0.966667      11 -0.012500\n",
       "5   0.945833  0.941667      15  0.004167\n",
       "6   0.937500  0.925000      19  0.012500\n",
       "7   0.941667  0.941667      23  0.000000\n",
       "8   0.950000  0.933333      25  0.016667\n",
       "9   0.941667  0.933333      27  0.008333"
      ]
     },
     "execution_count": 190,
     "metadata": {},
     "output_type": "execute_result"
    }
   ],
   "source": [
    "rcv"
   ]
  },
  {
   "cell_type": "code",
   "execution_count": 192,
   "id": "bcd362de",
   "metadata": {},
   "outputs": [
    {
     "data": {
      "text/plain": [
       "<matplotlib.legend.Legend at 0x2234270fa00>"
      ]
     },
     "execution_count": 192,
     "metadata": {},
     "output_type": "execute_result"
    },
    {
     "data": {
      "image/png": "[encoded data removed]",
      "text/plain": [
       "<Figure size 432x288 with 1 Axes>"
      ]
     },
     "metadata": {
      "needs_background": "light"
     },
     "output_type": "display_data"
    }
   ],
   "source": [
    "plt.plot(rcv['params'], rcv['train_acc'])\n",
    "plt.plot(rcv['params'], rcv['test_acc'])\n",
    "plt.xlabel('n_neighbors')\n",
    "plt.ylabel('Accuracy')\n",
    "plt.legend(['train accuracy', 'test accuracy'], loc='upper right')"
   ]
  },
  {
   "cell_type": "code",
   "execution_count": 219,
   "id": "7ad40f46",
   "metadata": {},
   "outputs": [],
   "source": [
    "knn.n_neighbors=23"
   ]
  },
  {
   "cell_type": "code",
   "execution_count": 221,
   "id": "5ad01c61",
   "metadata": {},
   "outputs": [
    {
     "data": {
      "text/plain": [
       "KNeighborsClassifier(n_neighbors=23)"
      ]
     },
     "execution_count": 221,
     "metadata": {},
     "output_type": "execute_result"
    }
   ],
   "source": [
    "knn.fit(X_train,y_train)"
   ]
  },
  {
   "cell_type": "code",
   "execution_count": 222,
   "id": "be4024c3",
   "metadata": {},
   "outputs": [],
   "source": [
    "y_test_predict=knn.predict(X_test)"
   ]
  },
  {
   "cell_type": "code",
   "execution_count": 223,
   "id": "b7d6050d",
   "metadata": {},
   "outputs": [
    {
     "data": {
      "text/plain": [
       "1.0"
      ]
     },
     "execution_count": 223,
     "metadata": {},
     "output_type": "execute_result"
    }
   ],
   "source": [
    "accuracy_score(y_test,y_test_predict)"
   ]
  },
  {
   "cell_type": "code",
   "execution_count": null,
   "id": "126eff0e",
   "metadata": {},
   "outputs": [],
   "source": []
  }
 ],
 "metadata": {
  "kernelspec": {
   "display_name": "Python 3 (ipykernel)",
   "language": "python",
   "name": "python3"
  },
  "language_info": {
   "codemirror_mode": {
    "name": "ipython",
    "version": 3
   },
   "file_extension": ".py",
   "mimetype": "text/x-python",
   "name": "python",
   "nbconvert_exporter": "python",
   "pygments_lexer": "ipython3",
   "version": "3.9.12"
  }
 },
 "nbformat": 4,
 "nbformat_minor": 5
}
